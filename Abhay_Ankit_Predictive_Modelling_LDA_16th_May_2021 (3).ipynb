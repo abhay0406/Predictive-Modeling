{
 "cells": [
  {
   "cell_type": "code",
   "execution_count": 1,
   "id": "nonprofit-pharmacology",
   "metadata": {},
   "outputs": [],
   "source": [
    "#importing nupy and pandas\n",
    "import numpy as np\n",
    "import pandas as pd"
   ]
  },
  {
   "cell_type": "code",
   "execution_count": 2,
   "id": "corresponding-switzerland",
   "metadata": {},
   "outputs": [],
   "source": [
    "#loding data\n",
    "holiday  = pd.read_csv(r'C:\\Users\\abhay\\Downloads\\Holiday_package.csv')"
   ]
  },
  {
   "cell_type": "code",
   "execution_count": 3,
   "id": "accepted-antique",
   "metadata": {},
   "outputs": [],
   "source": [
    "from sklearn.discriminant_analysis import LinearDiscriminantAnalysis\n",
    "from sklearn.metrics import confusion_matrix\n",
    "from sklearn.preprocessing import scale"
   ]
  },
  {
   "cell_type": "code",
   "execution_count": 4,
   "id": "extra-hacker",
   "metadata": {},
   "outputs": [
    {
     "name": "stdout",
     "output_type": "stream",
     "text": [
      "HOLLIDAY_PACKAGE :  2\n",
      "yes    401\n",
      "no     471\n",
      "Name: Holliday_Package, dtype: int64\n",
      "\n",
      "\n",
      "FOREIGN :  2\n",
      "yes    216\n",
      "no     656\n",
      "Name: foreign, dtype: int64\n",
      "\n",
      "\n"
     ]
    }
   ],
   "source": [
    "#getting unique observations in string type variables\n",
    "for column in holiday.columns:\n",
    "    if holiday[column].dtype == 'object':\n",
    "        print(column.upper(),': ',holiday[column].nunique())\n",
    "        print(holiday[column].value_counts().sort_values())\n",
    "        print('\\n')"
   ]
  },
  {
   "cell_type": "code",
   "execution_count": 5,
   "id": "8bd13c47",
   "metadata": {},
   "outputs": [],
   "source": [
    "from sklearn.preprocessing import LabelEncoder\n",
    "\n",
    "## Defining a Label Encoder object instance\n",
    "LE = LabelEncoder()"
   ]
  },
  {
   "cell_type": "code",
   "execution_count": 6,
   "id": "7cc068ae",
   "metadata": {},
   "outputs": [
    {
     "data": {
      "text/html": [
       "<div>\n",
       "<style scoped>\n",
       "    .dataframe tbody tr th:only-of-type {\n",
       "        vertical-align: middle;\n",
       "    }\n",
       "\n",
       "    .dataframe tbody tr th {\n",
       "        vertical-align: top;\n",
       "    }\n",
       "\n",
       "    .dataframe thead th {\n",
       "        text-align: right;\n",
       "    }\n",
       "</style>\n",
       "<table border=\"1\" class=\"dataframe\">\n",
       "  <thead>\n",
       "    <tr style=\"text-align: right;\">\n",
       "      <th></th>\n",
       "      <th>Unnamed: 0</th>\n",
       "      <th>Holliday_Package</th>\n",
       "      <th>Salary</th>\n",
       "      <th>age</th>\n",
       "      <th>educ</th>\n",
       "      <th>no_young_children</th>\n",
       "      <th>no_older_children</th>\n",
       "      <th>foreign</th>\n",
       "    </tr>\n",
       "  </thead>\n",
       "  <tbody>\n",
       "    <tr>\n",
       "      <th>0</th>\n",
       "      <td>1</td>\n",
       "      <td>0</td>\n",
       "      <td>48412</td>\n",
       "      <td>30</td>\n",
       "      <td>8</td>\n",
       "      <td>1</td>\n",
       "      <td>1</td>\n",
       "      <td>no</td>\n",
       "    </tr>\n",
       "    <tr>\n",
       "      <th>1</th>\n",
       "      <td>2</td>\n",
       "      <td>1</td>\n",
       "      <td>37207</td>\n",
       "      <td>45</td>\n",
       "      <td>8</td>\n",
       "      <td>0</td>\n",
       "      <td>1</td>\n",
       "      <td>no</td>\n",
       "    </tr>\n",
       "    <tr>\n",
       "      <th>2</th>\n",
       "      <td>3</td>\n",
       "      <td>0</td>\n",
       "      <td>58022</td>\n",
       "      <td>46</td>\n",
       "      <td>9</td>\n",
       "      <td>0</td>\n",
       "      <td>0</td>\n",
       "      <td>no</td>\n",
       "    </tr>\n",
       "    <tr>\n",
       "      <th>3</th>\n",
       "      <td>4</td>\n",
       "      <td>0</td>\n",
       "      <td>66503</td>\n",
       "      <td>31</td>\n",
       "      <td>11</td>\n",
       "      <td>2</td>\n",
       "      <td>0</td>\n",
       "      <td>no</td>\n",
       "    </tr>\n",
       "    <tr>\n",
       "      <th>4</th>\n",
       "      <td>5</td>\n",
       "      <td>0</td>\n",
       "      <td>66734</td>\n",
       "      <td>44</td>\n",
       "      <td>12</td>\n",
       "      <td>0</td>\n",
       "      <td>2</td>\n",
       "      <td>no</td>\n",
       "    </tr>\n",
       "  </tbody>\n",
       "</table>\n",
       "</div>"
      ],
      "text/plain": [
       "   Unnamed: 0  Holliday_Package  Salary  age  educ  no_young_children  \\\n",
       "0           1                 0   48412   30     8                  1   \n",
       "1           2                 1   37207   45     8                  0   \n",
       "2           3                 0   58022   46     9                  0   \n",
       "3           4                 0   66503   31    11                  2   \n",
       "4           5                 0   66734   44    12                  0   \n",
       "\n",
       "   no_older_children foreign  \n",
       "0                  1      no  \n",
       "1                  1      no  \n",
       "2                  0      no  \n",
       "3                  0      no  \n",
       "4                  2      no  "
      ]
     },
     "execution_count": 6,
     "metadata": {},
     "output_type": "execute_result"
    }
   ],
   "source": [
    "holiday['Holliday_Package'] = LE.fit_transform(holiday['Holliday_Package'])\n",
    "holiday.head()"
   ]
  },
  {
   "cell_type": "code",
   "execution_count": 7,
   "id": "excess-reform",
   "metadata": {},
   "outputs": [],
   "source": [
    "# encoding string data type variable to get dummies\n",
    "holiday = pd.get_dummies(holiday, columns=['foreign'],drop_first=True)\n",
    "# deleting the unnamed column as its a seriam number column and wont play any part in our further analysis\n",
    "holiday = holiday.drop('Unnamed: 0', axis=1)"
   ]
  },
  {
   "cell_type": "code",
   "execution_count": 8,
   "id": "prepared-raising",
   "metadata": {},
   "outputs": [
    {
     "data": {
      "text/html": [
       "<div>\n",
       "<style scoped>\n",
       "    .dataframe tbody tr th:only-of-type {\n",
       "        vertical-align: middle;\n",
       "    }\n",
       "\n",
       "    .dataframe tbody tr th {\n",
       "        vertical-align: top;\n",
       "    }\n",
       "\n",
       "    .dataframe thead th {\n",
       "        text-align: right;\n",
       "    }\n",
       "</style>\n",
       "<table border=\"1\" class=\"dataframe\">\n",
       "  <thead>\n",
       "    <tr style=\"text-align: right;\">\n",
       "      <th></th>\n",
       "      <th>Holliday_Package</th>\n",
       "      <th>Salary</th>\n",
       "      <th>age</th>\n",
       "      <th>educ</th>\n",
       "      <th>no_young_children</th>\n",
       "      <th>no_older_children</th>\n",
       "      <th>foreign_yes</th>\n",
       "    </tr>\n",
       "  </thead>\n",
       "  <tbody>\n",
       "    <tr>\n",
       "      <th>0</th>\n",
       "      <td>0</td>\n",
       "      <td>48412</td>\n",
       "      <td>30</td>\n",
       "      <td>8</td>\n",
       "      <td>1</td>\n",
       "      <td>1</td>\n",
       "      <td>0</td>\n",
       "    </tr>\n",
       "    <tr>\n",
       "      <th>1</th>\n",
       "      <td>1</td>\n",
       "      <td>37207</td>\n",
       "      <td>45</td>\n",
       "      <td>8</td>\n",
       "      <td>0</td>\n",
       "      <td>1</td>\n",
       "      <td>0</td>\n",
       "    </tr>\n",
       "    <tr>\n",
       "      <th>2</th>\n",
       "      <td>0</td>\n",
       "      <td>58022</td>\n",
       "      <td>46</td>\n",
       "      <td>9</td>\n",
       "      <td>0</td>\n",
       "      <td>0</td>\n",
       "      <td>0</td>\n",
       "    </tr>\n",
       "    <tr>\n",
       "      <th>3</th>\n",
       "      <td>0</td>\n",
       "      <td>66503</td>\n",
       "      <td>31</td>\n",
       "      <td>11</td>\n",
       "      <td>2</td>\n",
       "      <td>0</td>\n",
       "      <td>0</td>\n",
       "    </tr>\n",
       "    <tr>\n",
       "      <th>4</th>\n",
       "      <td>0</td>\n",
       "      <td>66734</td>\n",
       "      <td>44</td>\n",
       "      <td>12</td>\n",
       "      <td>0</td>\n",
       "      <td>2</td>\n",
       "      <td>0</td>\n",
       "    </tr>\n",
       "  </tbody>\n",
       "</table>\n",
       "</div>"
      ],
      "text/plain": [
       "   Holliday_Package  Salary  age  educ  no_young_children  no_older_children  \\\n",
       "0                 0   48412   30     8                  1                  1   \n",
       "1                 1   37207   45     8                  0                  1   \n",
       "2                 0   58022   46     9                  0                  0   \n",
       "3                 0   66503   31    11                  2                  0   \n",
       "4                 0   66734   44    12                  0                  2   \n",
       "\n",
       "   foreign_yes  \n",
       "0            0  \n",
       "1            0  \n",
       "2            0  \n",
       "3            0  \n",
       "4            0  "
      ]
     },
     "execution_count": 8,
     "metadata": {},
     "output_type": "execute_result"
    }
   ],
   "source": [
    "# checking head of dataset post encoding\n",
    "holiday.head()"
   ]
  },
  {
   "cell_type": "code",
   "execution_count": 9,
   "id": "mental-cowboy",
   "metadata": {},
   "outputs": [
    {
     "data": {
      "text/html": [
       "<div>\n",
       "<style scoped>\n",
       "    .dataframe tbody tr th:only-of-type {\n",
       "        vertical-align: middle;\n",
       "    }\n",
       "\n",
       "    .dataframe tbody tr th {\n",
       "        vertical-align: top;\n",
       "    }\n",
       "\n",
       "    .dataframe thead th {\n",
       "        text-align: right;\n",
       "    }\n",
       "</style>\n",
       "<table border=\"1\" class=\"dataframe\">\n",
       "  <thead>\n",
       "    <tr style=\"text-align: right;\">\n",
       "      <th></th>\n",
       "      <th>Salary</th>\n",
       "      <th>age</th>\n",
       "      <th>educ</th>\n",
       "      <th>no_young_children</th>\n",
       "      <th>no_older_children</th>\n",
       "      <th>foreign_yes</th>\n",
       "    </tr>\n",
       "    <tr>\n",
       "      <th>Holliday_Package</th>\n",
       "      <th></th>\n",
       "      <th></th>\n",
       "      <th></th>\n",
       "      <th></th>\n",
       "      <th></th>\n",
       "      <th></th>\n",
       "    </tr>\n",
       "  </thead>\n",
       "  <tbody>\n",
       "    <tr>\n",
       "      <th>0</th>\n",
       "      <td>471</td>\n",
       "      <td>471</td>\n",
       "      <td>471</td>\n",
       "      <td>471</td>\n",
       "      <td>471</td>\n",
       "      <td>471</td>\n",
       "    </tr>\n",
       "    <tr>\n",
       "      <th>1</th>\n",
       "      <td>401</td>\n",
       "      <td>401</td>\n",
       "      <td>401</td>\n",
       "      <td>401</td>\n",
       "      <td>401</td>\n",
       "      <td>401</td>\n",
       "    </tr>\n",
       "  </tbody>\n",
       "</table>\n",
       "</div>"
      ],
      "text/plain": [
       "                  Salary  age  educ  no_young_children  no_older_children  \\\n",
       "Holliday_Package                                                            \n",
       "0                    471  471   471                471                471   \n",
       "1                    401  401   401                401                401   \n",
       "\n",
       "                  foreign_yes  \n",
       "Holliday_Package               \n",
       "0                         471  \n",
       "1                         401  "
      ]
     },
     "execution_count": 9,
     "metadata": {},
     "output_type": "execute_result"
    }
   ],
   "source": [
    "#checking if the data is balanced or not\n",
    "holiday.groupby([\"Holliday_Package\"]).count()"
   ]
  },
  {
   "cell_type": "code",
   "execution_count": 10,
   "id": "small-navigation",
   "metadata": {},
   "outputs": [],
   "source": [
    "# splitting data into independent and dependent variables\n",
    "X = holiday.drop('Holliday_Package' , axis=1)\n",
    "\n",
    "y = holiday.pop(\"Holliday_Package\")"
   ]
  },
  {
   "cell_type": "code",
   "execution_count": 11,
   "id": "dental-saver",
   "metadata": {},
   "outputs": [],
   "source": [
    "#splitting data into train and test data set\n",
    "from sklearn.model_selection import train_test_split\n",
    "X_train, X_test, y_train, y_test = train_test_split(X, y, test_size=0.30 , random_state=1)"
   ]
  },
  {
   "cell_type": "code",
   "execution_count": 12,
   "id": "charming-acting",
   "metadata": {},
   "outputs": [
    {
     "name": "stdout",
     "output_type": "stream",
     "text": [
      "X_train (610, 6)\n",
      "X_test (262, 6)\n",
      "y_train (610,)\n",
      "y_test (262,)\n"
     ]
    }
   ],
   "source": [
    "#checking the dimentsions of training and test data\n",
    "print('X_train',X_train.shape)\n",
    "print('X_test',X_test.shape)\n",
    "print('y_train',y_train.shape)\n",
    "print('y_test',y_test.shape)"
   ]
  },
  {
   "cell_type": "code",
   "execution_count": 13,
   "id": "relative-favorite",
   "metadata": {},
   "outputs": [
    {
     "data": {
      "text/plain": [
       "LinearDiscriminantAnalysis()"
      ]
     },
     "execution_count": 13,
     "metadata": {},
     "output_type": "execute_result"
    }
   ],
   "source": [
    "clf = LinearDiscriminantAnalysis()\n",
    "model=clf.fit(X_train,y_train)\n",
    "model"
   ]
  },
  {
   "cell_type": "code",
   "execution_count": 14,
   "id": "continuous-worth",
   "metadata": {},
   "outputs": [],
   "source": [
    "# Training Data Class Prediction\n",
    "pred_class_train = model.predict(X_train)\n",
    "\n",
    "# Test Data Class Prediction\n",
    "pred_class_test = model.predict(X_test)"
   ]
  },
  {
   "cell_type": "code",
   "execution_count": 15,
   "id": "ecbd5b23",
   "metadata": {},
   "outputs": [
    {
     "data": {
      "text/plain": [
       "0.6721311475409836"
      ]
     },
     "execution_count": 15,
     "metadata": {},
     "output_type": "execute_result"
    }
   ],
   "source": [
    "#Accuracy - Training dataset\n",
    "model.score(X_train, y_train)"
   ]
  },
  {
   "cell_type": "code",
   "execution_count": 16,
   "id": "9ea5b6da",
   "metadata": {},
   "outputs": [
    {
     "data": {
      "text/plain": [
       "0.6412213740458015"
      ]
     },
     "execution_count": 16,
     "metadata": {},
     "output_type": "execute_result"
    }
   ],
   "source": [
    "# Accuracy - Test Data\n",
    "model.score(X_test, y_test)"
   ]
  },
  {
   "cell_type": "code",
   "execution_count": 17,
   "id": "bde58008",
   "metadata": {},
   "outputs": [
    {
     "data": {
      "text/plain": [
       "array([[252,  74],\n",
       "       [126, 158]], dtype=int64)"
      ]
     },
     "execution_count": 17,
     "metadata": {},
     "output_type": "execute_result"
    }
   ],
   "source": [
    "confusion_matrix(y_train, pred_class_train)"
   ]
  },
  {
   "cell_type": "code",
   "execution_count": 18,
   "id": "246f85d5",
   "metadata": {},
   "outputs": [
    {
     "data": {
      "text/plain": [
       "array([[103,  42],\n",
       "       [ 52,  65]], dtype=int64)"
      ]
     },
     "execution_count": 18,
     "metadata": {},
     "output_type": "execute_result"
    }
   ],
   "source": [
    "confusion_matrix(y_test, pred_class_test)"
   ]
  },
  {
   "cell_type": "code",
   "execution_count": 19,
   "id": "indian-value",
   "metadata": {},
   "outputs": [
    {
     "data": {
      "image/png": "[encoded data removed]",
      "text/plain": [
       "<Figure size 432x288 with 4 Axes>"
      ]
     },
     "metadata": {
      "needs_background": "light"
     },
     "output_type": "display_data"
    }
   ],
   "source": [
    "import matplotlib.pyplot as plt \n",
    "import seaborn as sns\n",
    "from sklearn.model_selection import train_test_split,GridSearchCV\n",
    "from sklearn.linear_model import LogisticRegression\n",
    "from sklearn import metrics\n",
    "from sklearn.metrics import roc_auc_score,roc_curve,classification_report,confusion_matrix,plot_confusion_matrix\n",
    "f,a =  plt.subplots(1,2,sharex=True,sharey=True,squeeze=False)\n",
    "\n",
    "#Plotting confusion matrix for the different models for the Training Data\n",
    "\n",
    "plot_0 = sns.heatmap((metrics.confusion_matrix(y_train,pred_class_train)),annot=True,fmt='.5g',cmap='Greys',ax=a[0][0]);\n",
    "a[0][0].set_title('Training Data')\n",
    "\n",
    "plot_1 = sns.heatmap((metrics.confusion_matrix(y_test,pred_class_test)),annot=True,fmt='.5g',cmap='Greys',ax=a[0][1]);\n",
    "a[0][1].set_title('Test Data');"
   ]
  },
  {
   "cell_type": "code",
   "execution_count": 20,
   "id": "satisfied-amplifier",
   "metadata": {},
   "outputs": [
    {
     "name": "stdout",
     "output_type": "stream",
     "text": [
      "Classification Report of the training data:\n",
      "\n",
      "               precision    recall  f1-score   support\n",
      "\n",
      "           0       0.67      0.77      0.72       326\n",
      "           1       0.68      0.56      0.61       284\n",
      "\n",
      "    accuracy                           0.67       610\n",
      "   macro avg       0.67      0.66      0.66       610\n",
      "weighted avg       0.67      0.67      0.67       610\n",
      " \n",
      "\n",
      "Classification Report of the test data:\n",
      "\n",
      "               precision    recall  f1-score   support\n",
      "\n",
      "           0       0.66      0.71      0.69       145\n",
      "           1       0.61      0.56      0.58       117\n",
      "\n",
      "    accuracy                           0.64       262\n",
      "   macro avg       0.64      0.63      0.63       262\n",
      "weighted avg       0.64      0.64      0.64       262\n",
      " \n",
      "\n"
     ]
    }
   ],
   "source": [
    "print('Classification Report of the training data:\\n\\n',metrics.classification_report(y_train,pred_class_train),'\\n')\n",
    "print('Classification Report of the test data:\\n\\n',metrics.classification_report(y_test,pred_class_test),'\\n')"
   ]
  },
  {
   "cell_type": "code",
   "execution_count": 21,
   "id": "neither-engineer",
   "metadata": {},
   "outputs": [],
   "source": [
    "# Training Data Probability Prediction\n",
    "pred_prob_train = model.predict_proba(X_train)\n",
    "\n",
    "# Test Data Probability Prediction\n",
    "pred_prob_test = model.predict_proba(X_test)"
   ]
  },
  {
   "cell_type": "code",
   "execution_count": 22,
   "id": "governing-march",
   "metadata": {},
   "outputs": [
    {
     "data": {
      "text/plain": [
       "array([0.24451841, 0.74473838, 0.02926233, 0.33696244, 0.53643674,\n",
       "       0.77166141, 0.42537442, 0.29503123, 0.22447685, 0.30070348,\n",
       "       0.28534521, 0.25472358, 0.36253223, 0.49555106, 0.43238182,\n",
       "       0.76289172, 0.76180657, 0.13440254, 0.43765202, 0.8874783 ,\n",
       "       0.70795813, 0.17152298, 0.21548115, 0.63053721, 0.2367007 ,\n",
       "       0.32348888, 0.64312884, 0.32722211, 0.85239686, 0.28937042,\n",
       "       0.70512591, 0.80009771, 0.52040802, 0.27686374, 0.3164615 ,\n",
       "       0.54760845, 0.52040327, 0.31517416, 0.44152214, 0.06906226,\n",
       "       0.34406846, 0.54935353, 0.29231453, 0.88221405, 0.07678677,\n",
       "       0.76222865, 0.68956941, 0.1184114 , 0.06581715, 0.55511382,\n",
       "       0.47496466, 0.24377183, 0.66339382, 0.45779134, 0.89305876,\n",
       "       0.44876138, 0.65167779, 0.2604166 , 0.68041423, 0.33655869,\n",
       "       0.3568944 , 0.25495093, 0.18266474, 0.11733085, 0.30783826,\n",
       "       0.36037879, 0.54026683, 0.58991236, 0.06395937, 0.59328948,\n",
       "       0.63404283, 0.23717375, 0.38986934, 0.78549853, 0.37122935,\n",
       "       0.7874946 , 0.66305501, 0.34368011, 0.32114344, 0.78518126,\n",
       "       0.83689812, 0.41367221, 0.60571727, 0.3925554 , 0.62720732,\n",
       "       0.473723  , 0.84462391, 0.29058407, 0.39855723, 0.67292365,\n",
       "       0.57077675, 0.08573576, 0.48876898, 0.47155725, 0.45245692,\n",
       "       0.15096849, 0.49214316, 0.10511692, 0.84598765, 0.78641624,\n",
       "       0.44226289, 0.26754476, 0.41543018, 0.8542949 , 0.19182586,\n",
       "       0.37430028, 0.43386736, 0.44153168, 0.25175278, 0.3198728 ,\n",
       "       0.82093054, 0.27520591, 0.50495599, 0.53548776, 0.35187992,\n",
       "       0.45159704, 0.49901672, 0.54361507, 0.8538415 , 0.65181785,\n",
       "       0.32480141, 0.76471872, 0.08085838, 0.17523959, 0.03224579,\n",
       "       0.39754568, 0.38560738, 0.37286781, 0.43884612, 0.82892569,\n",
       "       0.1804494 , 0.29783425, 0.41489701, 0.40856888, 0.43185531,\n",
       "       0.68648806, 0.40128048, 0.19067639, 0.66080977, 0.91535946,\n",
       "       0.5150911 , 0.37283997, 0.10903575, 0.83595515, 0.3764464 ,\n",
       "       0.76350546, 0.25161091, 0.34870963, 0.4852299 , 0.25878303,\n",
       "       0.31909032, 0.75923303, 0.05543037, 0.38507329, 0.46541534,\n",
       "       0.36088855, 0.80838626, 0.48059788, 0.32144344, 0.40657417,\n",
       "       0.41827223, 0.48642458, 0.75170142, 0.3315223 , 0.61394974,\n",
       "       0.55002339, 0.78410409, 0.71142525, 0.23506997, 0.50363974,\n",
       "       0.77384324, 0.27657217, 0.7987967 , 0.23335454, 0.53664189,\n",
       "       0.65158539, 0.4415359 , 0.45596373, 0.4655384 , 0.71809833,\n",
       "       0.41600048, 0.08004285, 0.20745231, 0.26020952, 0.73637194,\n",
       "       0.70775355, 0.53612076, 0.40246189, 0.89542346, 0.31116232,\n",
       "       0.49396099, 0.03057559, 0.29638105, 0.7926922 , 0.14782213,\n",
       "       0.42292749, 0.71001456, 0.47457347, 0.39337204, 0.41485332,\n",
       "       0.82087223, 0.40706345, 0.32087429, 0.42323152, 0.30371912,\n",
       "       0.22537525, 0.78372828, 0.5291788 , 0.5768112 , 0.42662611,\n",
       "       0.32617542, 0.57251551, 0.72920471, 0.29639821, 0.23118235,\n",
       "       0.42514874, 0.1998333 , 0.32597034, 0.44640857, 0.51150376,\n",
       "       0.35212303, 0.52030748, 0.28368085, 0.28096657, 0.47965236,\n",
       "       0.73439004, 0.25524196, 0.35598772, 0.34122375, 0.76223059,\n",
       "       0.18778488, 0.68793498, 0.26715751, 0.38370462, 0.50426277,\n",
       "       0.39398891, 0.56353369, 0.47978815, 0.32386772, 0.40526574,\n",
       "       0.67590317, 0.38447636, 0.74065312, 0.26997603, 0.26115562,\n",
       "       0.84960184, 0.54794511, 0.40164275, 0.55129966, 0.45196381,\n",
       "       0.09045876, 0.79566906, 0.41070091, 0.26306048, 0.15922147,\n",
       "       0.42663785, 0.39268286, 0.94228102, 0.33093592, 0.30384856,\n",
       "       0.39541055, 0.58356697, 0.46540353, 0.53605785, 0.28688033,\n",
       "       0.78131471, 0.4516396 , 0.54307028, 0.22362796, 0.27299095,\n",
       "       0.56348662, 0.46614775, 0.37077217, 0.10962029, 0.51535075,\n",
       "       0.44387683, 0.43078844, 0.11037663, 0.29609095, 0.37287649,\n",
       "       0.45750506, 0.48533685, 0.49458365, 0.32991895, 0.59936424,\n",
       "       0.72111332, 0.5938214 , 0.81275501, 0.25172577, 0.84123584,\n",
       "       0.85612009, 0.81689956, 0.12765723, 0.52787894, 0.31854169,\n",
       "       0.29812779, 0.27062966, 0.78727305, 0.70047485, 0.79380095,\n",
       "       0.74019963, 0.89181794, 0.41533566, 0.76952156, 0.56940806,\n",
       "       0.49616502, 0.81232488, 0.28592907, 0.5030034 , 0.70853243,\n",
       "       0.25918883, 0.83358597, 0.66354114, 0.26721906, 0.3561015 ,\n",
       "       0.44987358, 0.79240225, 0.12509903, 0.09661127, 0.4982926 ,\n",
       "       0.64607197, 0.34203237, 0.73227402, 0.34921871, 0.11912506,\n",
       "       0.31706233, 0.72974174, 0.52753607, 0.80205163, 0.3430556 ,\n",
       "       0.50793671, 0.17841111, 0.34124015, 0.56331009, 0.36111228,\n",
       "       0.34504662, 0.26306624, 0.89735141, 0.60522107, 0.41660647,\n",
       "       0.59737893, 0.12849545, 0.87858197, 0.16056726, 0.51245364,\n",
       "       0.26288619, 0.24387038, 0.83947162, 0.09744877, 0.32114391,\n",
       "       0.41402407, 0.56042621, 0.19190775, 0.40675729, 0.71033714,\n",
       "       0.28937272, 0.23647745, 0.6377743 , 0.58494056, 0.45602744,\n",
       "       0.61507921, 0.67802993, 0.63711534, 0.38616079, 0.60539664,\n",
       "       0.69540498, 0.71246427, 0.4346238 , 0.34247254, 0.4363416 ,\n",
       "       0.44365014, 0.7400552 , 0.477308  , 0.45883673, 0.39178241,\n",
       "       0.84260669, 0.79809467, 0.23392526, 0.29482108, 0.54465954,\n",
       "       0.38096788, 0.56893427, 0.46474876, 0.31806146, 0.6656051 ,\n",
       "       0.28124531, 0.40783242, 0.5244483 , 0.66795781, 0.09844224,\n",
       "       0.44458077, 0.35105575, 0.32849058, 0.11606922, 0.37257056,\n",
       "       0.40253508, 0.44038779, 0.39805007, 0.5737167 , 0.44275779,\n",
       "       0.79446753, 0.90313073, 0.28615211, 0.75234274, 0.70888331,\n",
       "       0.62694754, 0.17215622, 0.35730385, 0.43256853, 0.37268778,\n",
       "       0.44679608, 0.21783169, 0.69831249, 0.35130435, 0.30559937,\n",
       "       0.69345162, 0.31252626, 0.77744449, 0.48314797, 0.29652928,\n",
       "       0.2819058 , 0.80820093, 0.28422194, 0.85746166, 0.35819279,\n",
       "       0.75673125, 0.02874701, 0.35350022, 0.29984508, 0.20659177,\n",
       "       0.54770832, 0.45533035, 0.43205203, 0.24189013, 0.32653536,\n",
       "       0.41659813, 0.34684775, 0.86571909, 0.74889401, 0.28448337,\n",
       "       0.53917584, 0.66340931, 0.33092579, 0.48203806, 0.31438058,\n",
       "       0.15106177, 0.67499408, 0.68402469, 0.83546661, 0.6050179 ,\n",
       "       0.15522943, 0.34468527, 0.79930831, 0.12027474, 0.36331778,\n",
       "       0.76669589, 0.36549318, 0.25279495, 0.80360592, 0.42129071,\n",
       "       0.07922636, 0.28784595, 0.57300807, 0.13843021, 0.33593703,\n",
       "       0.87265808, 0.85847753, 0.67050494, 0.56703494, 0.60780251,\n",
       "       0.45583846, 0.5163634 , 0.85458977, 0.40033859, 0.53120302,\n",
       "       0.57162017, 0.39347154, 0.28132475, 0.43581691, 0.81154491,\n",
       "       0.03937639, 0.63720438, 0.37004757, 0.86414994, 0.44013307,\n",
       "       0.32295092, 0.36820521, 0.40548396, 0.62812012, 0.56856445,\n",
       "       0.50142919, 0.73374316, 0.33888515, 0.73706683, 0.44097286,\n",
       "       0.3071859 , 0.70298726, 0.39046499, 0.36909207, 0.31426049,\n",
       "       0.64147752, 0.8750412 , 0.38446204, 0.80294054, 0.4056421 ,\n",
       "       0.35383432, 0.31901786, 0.25170597, 0.30792737, 0.64764054,\n",
       "       0.75077801, 0.25650283, 0.73174226, 0.50678151, 0.48176681,\n",
       "       0.25357433, 0.32905925, 0.24376394, 0.29136029, 0.49434   ,\n",
       "       0.66526288, 0.65690478, 0.68840603, 0.3434347 , 0.37375219,\n",
       "       0.57543688, 0.56886742, 0.40519155, 0.90459974, 0.35064861,\n",
       "       0.42965205, 0.2751407 , 0.43564844, 0.33300472, 0.94358154,\n",
       "       0.89055193, 0.36717553, 0.52557751, 0.66224197, 0.32391961,\n",
       "       0.29180071, 0.2864882 , 0.30960694, 0.38981024, 0.35274825,\n",
       "       0.41322026, 0.29766258, 0.12497018, 0.45320401, 0.26335645,\n",
       "       0.31898216, 0.10315833, 0.43540924, 0.37021964, 0.38175664,\n",
       "       0.33589266, 0.33875802, 0.81602363, 0.29719484, 0.80763262,\n",
       "       0.36519316, 0.56418921, 0.29916813, 0.26713671, 0.56335097,\n",
       "       0.45553508, 0.61197548, 0.39770473, 0.68310507, 0.30509157,\n",
       "       0.5013429 , 0.14600286, 0.61755929, 0.27840281, 0.34853258,\n",
       "       0.74415114, 0.35083826, 0.58313104, 0.52630276, 0.63979174,\n",
       "       0.46031595, 0.57159921, 0.42153611, 0.72830918, 0.46900959,\n",
       "       0.62202443, 0.40616701, 0.47888487, 0.44926527, 0.11957446,\n",
       "       0.28944124, 0.6178092 , 0.33560659, 0.36372466, 0.2925576 ,\n",
       "       0.22509423, 0.43504075, 0.54341836, 0.39387947, 0.14626318,\n",
       "       0.24417706, 0.29715929, 0.36781307, 0.75494583, 0.44878845,\n",
       "       0.63844965, 0.88985263, 0.29424246, 0.21590504, 0.17777957])"
      ]
     },
     "execution_count": 22,
     "metadata": {},
     "output_type": "execute_result"
    }
   ],
   "source": [
    "pred_prob_train[:,1]"
   ]
  },
  {
   "cell_type": "code",
   "execution_count": 23,
   "id": "illegal-bradley",
   "metadata": {},
   "outputs": [
    {
     "name": "stdout",
     "output_type": "stream",
     "text": [
      "AUC for the Training Data: 0.742\n",
      "AUC for the Test Data: 0.703\n"
     ]
    },
    {
     "data": {
      "image/png": "[encoded data removed]",
      "text/plain": [
       "<Figure size 432x288 with 1 Axes>"
      ]
     },
     "metadata": {
      "needs_background": "light"
     },
     "output_type": "display_data"
    }
   ],
   "source": [
    "# AUC and ROC for the training data\n",
    "\n",
    "# calculate AUC\n",
    "auc = metrics.roc_auc_score(y_train,pred_prob_train[:,1])\n",
    "print('AUC for the Training Data: %.3f' % auc)\n",
    "\n",
    "#  calculate roc curve\n",
    "fpr, tpr, thresholds = metrics.roc_curve(y_train,pred_prob_train[:,1])\n",
    "plt.plot([0, 1], [0, 1], linestyle='--')\n",
    "# plot the roc curve for the model\n",
    "plt.plot(fpr, tpr, marker='.',label = 'Training Data')\n",
    "\n",
    "\n",
    "# AUC and ROC for the test data\n",
    "\n",
    "# calculate AUC\n",
    "auc = metrics.roc_auc_score(y_test,pred_prob_test[:,1])\n",
    "print('AUC for the Test Data: %.3f' % auc)\n",
    "\n",
    "#  calculate roc curve\n",
    "fpr, tpr, thresholds = metrics.roc_curve(y_test,pred_prob_test[:,1])\n",
    "plt.plot([0, 1], [0, 1], linestyle='--')\n",
    "# plot the roc curve for the model\n",
    "plt.plot(fpr, tpr, marker='.',label='Test Data')\n",
    "# show the plot\n",
    "plt.legend(loc='best')\n",
    "plt.show()"
   ]
  },
  {
   "cell_type": "code",
   "execution_count": null,
   "id": "immune-defensive",
   "metadata": {},
   "outputs": [],
   "source": []
  },
  {
   "cell_type": "code",
   "execution_count": null,
   "id": "f918bc36",
   "metadata": {},
   "outputs": [],
   "source": []
  }
 ],
 "metadata": {
  "kernelspec": {
   "display_name": "Python 3",
   "language": "python",
   "name": "python3"
  },
  "language_info": {
   "codemirror_mode": {
    "name": "ipython",
    "version": 3
   },
   "file_extension": ".py",
   "mimetype": "text/x-python",
   "name": "python",
   "nbconvert_exporter": "python",
   "pygments_lexer": "ipython3",
   "version": "3.7.3"
  }
 },
 "nbformat": 4,
 "nbformat_minor": 5
}
